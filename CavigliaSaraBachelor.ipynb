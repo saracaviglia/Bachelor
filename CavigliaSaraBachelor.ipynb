{
 "cells": [
  {
   "cell_type": "markdown",
   "metadata": {},
   "source": [
    "## Caviglia Sara - Bachelor's Degree in Computer Science\n",
    "# Analizzare e Interpretare i dati usando il Clustering Gerarchico\n",
    "### Analyze and Interpret data using Hierchical Clustering"
   ]
  },
  {
   "cell_type": "code",
   "execution_count": null,
   "metadata": {},
   "outputs": [],
   "source": [
    "import pandas as pd\n",
    "import numpy as np"
   ]
  },
  {
   "cell_type": "code",
   "execution_count": null,
   "metadata": {},
   "outputs": [
    {
     "name": "stdout",
     "output_type": "stream",
     "text": [
      "<class 'pandas.core.frame.DataFrame'>\n",
      "RangeIndex: 169907 entries, 0 to 169906\n",
      "Data columns (total 19 columns):\n",
      " #   Column            Non-Null Count   Dtype  \n",
      "---  ------            --------------   -----  \n",
      " 0   id                169907 non-null  object \n",
      " 1   name              169907 non-null  object \n",
      " 2   artists           169907 non-null  object \n",
      " 3   duration_ms       169907 non-null  int64  \n",
      " 4   release_date      169907 non-null  object \n",
      " 5   year              169907 non-null  int64  \n",
      " 6   acousticness      169907 non-null  float64\n",
      " 7   danceability      169907 non-null  float64\n",
      " 8   energy            169907 non-null  float64\n",
      " 9   instrumentalness  169907 non-null  float64\n",
      " 10  liveness          169907 non-null  float64\n",
      " 11  loudness          169907 non-null  float64\n",
      " 12  speechiness       169907 non-null  float64\n",
      " 13  tempo             169907 non-null  float64\n",
      " 14  valence           169907 non-null  float64\n",
      " 15  mode              169907 non-null  int64  \n",
      " 16  key               169907 non-null  int64  \n",
      " 17  popularity        169907 non-null  int64  \n",
      " 18  explicit          169907 non-null  int64  \n",
      "dtypes: float64(9), int64(6), object(4)\n",
      "memory usage: 24.6+ MB\n"
     ]
    }
   ],
   "source": [
    "canzoni = pd.read_csv(\"canzoni.csv\")\n",
    "canzoni.info()"
   ]
  },
  {
   "cell_type": "code",
   "execution_count": null,
   "metadata": {},
   "outputs": [
    {
     "data": {
      "text/html": [
       "<div>\n",
       "<style scoped>\n",
       "    .dataframe tbody tr th:only-of-type {\n",
       "        vertical-align: middle;\n",
       "    }\n",
       "\n",
       "    .dataframe tbody tr th {\n",
       "        vertical-align: top;\n",
       "    }\n",
       "\n",
       "    .dataframe thead th {\n",
       "        text-align: right;\n",
       "    }\n",
       "</style>\n",
       "<table border=\"1\" class=\"dataframe\">\n",
       "  <thead>\n",
       "    <tr style=\"text-align: right;\">\n",
       "      <th></th>\n",
       "      <th>id</th>\n",
       "      <th>name</th>\n",
       "      <th>artists</th>\n",
       "      <th>duration_ms</th>\n",
       "      <th>release_date</th>\n",
       "      <th>year</th>\n",
       "      <th>acousticness</th>\n",
       "      <th>danceability</th>\n",
       "      <th>energy</th>\n",
       "      <th>instrumentalness</th>\n",
       "      <th>liveness</th>\n",
       "      <th>loudness</th>\n",
       "      <th>speechiness</th>\n",
       "      <th>tempo</th>\n",
       "      <th>valence</th>\n",
       "      <th>mode</th>\n",
       "      <th>key</th>\n",
       "      <th>popularity</th>\n",
       "      <th>explicit</th>\n",
       "    </tr>\n",
       "  </thead>\n",
       "  <tbody>\n",
       "    <tr>\n",
       "      <th>0</th>\n",
       "      <td>0gNNToCW3qjabgTyBSjt3H</td>\n",
       "      <td>!Que Vida! - Mono Version</td>\n",
       "      <td>['Love']</td>\n",
       "      <td>220560</td>\n",
       "      <td>11/1/66</td>\n",
       "      <td>1966</td>\n",
       "      <td>0.5250</td>\n",
       "      <td>0.600</td>\n",
       "      <td>0.540</td>\n",
       "      <td>0.00305</td>\n",
       "      <td>0.100</td>\n",
       "      <td>-11.803</td>\n",
       "      <td>0.0328</td>\n",
       "      <td>125.898</td>\n",
       "      <td>0.547</td>\n",
       "      <td>1</td>\n",
       "      <td>9</td>\n",
       "      <td>26</td>\n",
       "      <td>0</td>\n",
       "    </tr>\n",
       "    <tr>\n",
       "      <th>1</th>\n",
       "      <td>0tMgFpOrXZR6irEOLNWwJL</td>\n",
       "      <td>\"40\"</td>\n",
       "      <td>['U2']</td>\n",
       "      <td>157840</td>\n",
       "      <td>2/28/83</td>\n",
       "      <td>1983</td>\n",
       "      <td>0.2280</td>\n",
       "      <td>0.368</td>\n",
       "      <td>0.480</td>\n",
       "      <td>0.70700</td>\n",
       "      <td>0.159</td>\n",
       "      <td>-11.605</td>\n",
       "      <td>0.0306</td>\n",
       "      <td>150.166</td>\n",
       "      <td>0.338</td>\n",
       "      <td>1</td>\n",
       "      <td>8</td>\n",
       "      <td>21</td>\n",
       "      <td>0</td>\n",
       "    </tr>\n",
       "    <tr>\n",
       "      <th>2</th>\n",
       "      <td>2ZywW3VyVx6rrlrX75n3JB</td>\n",
       "      <td>\"40\" - Live</td>\n",
       "      <td>['U2']</td>\n",
       "      <td>226200</td>\n",
       "      <td>8/20/83</td>\n",
       "      <td>1983</td>\n",
       "      <td>0.0998</td>\n",
       "      <td>0.272</td>\n",
       "      <td>0.684</td>\n",
       "      <td>0.01450</td>\n",
       "      <td>0.946</td>\n",
       "      <td>-9.728</td>\n",
       "      <td>0.0505</td>\n",
       "      <td>143.079</td>\n",
       "      <td>0.279</td>\n",
       "      <td>1</td>\n",
       "      <td>8</td>\n",
       "      <td>41</td>\n",
       "      <td>0</td>\n",
       "    </tr>\n",
       "    <tr>\n",
       "      <th>3</th>\n",
       "      <td>6DdWA7D1o5TU2kXWyCLcch</td>\n",
       "      <td>\"40\" - Remastered 2008</td>\n",
       "      <td>['U2']</td>\n",
       "      <td>157667</td>\n",
       "      <td>2/28/83</td>\n",
       "      <td>1983</td>\n",
       "      <td>0.1850</td>\n",
       "      <td>0.371</td>\n",
       "      <td>0.545</td>\n",
       "      <td>0.58200</td>\n",
       "      <td>0.183</td>\n",
       "      <td>-9.315</td>\n",
       "      <td>0.0307</td>\n",
       "      <td>150.316</td>\n",
       "      <td>0.310</td>\n",
       "      <td>1</td>\n",
       "      <td>8</td>\n",
       "      <td>37</td>\n",
       "      <td>0</td>\n",
       "    </tr>\n",
       "    <tr>\n",
       "      <th>4</th>\n",
       "      <td>3vMmwsAiLDCfyc1jl76lQE</td>\n",
       "      <td>\"40\" - Remastered 2008</td>\n",
       "      <td>['U2']</td>\n",
       "      <td>157667</td>\n",
       "      <td>2/28/83</td>\n",
       "      <td>1983</td>\n",
       "      <td>0.1850</td>\n",
       "      <td>0.371</td>\n",
       "      <td>0.545</td>\n",
       "      <td>0.58200</td>\n",
       "      <td>0.183</td>\n",
       "      <td>-9.315</td>\n",
       "      <td>0.0307</td>\n",
       "      <td>150.316</td>\n",
       "      <td>0.310</td>\n",
       "      <td>1</td>\n",
       "      <td>8</td>\n",
       "      <td>35</td>\n",
       "      <td>0</td>\n",
       "    </tr>\n",
       "  </tbody>\n",
       "</table>\n",
       "</div>"
      ],
      "text/plain": [
       "                       id                       name   artists  duration_ms  \\\n",
       "0  0gNNToCW3qjabgTyBSjt3H  !Que Vida! - Mono Version  ['Love']       220560   \n",
       "1  0tMgFpOrXZR6irEOLNWwJL                       \"40\"    ['U2']       157840   \n",
       "2  2ZywW3VyVx6rrlrX75n3JB                \"40\" - Live    ['U2']       226200   \n",
       "3  6DdWA7D1o5TU2kXWyCLcch     \"40\" - Remastered 2008    ['U2']       157667   \n",
       "4  3vMmwsAiLDCfyc1jl76lQE     \"40\" - Remastered 2008    ['U2']       157667   \n",
       "\n",
       "  release_date  year  acousticness  danceability  energy  instrumentalness  \\\n",
       "0      11/1/66  1966        0.5250         0.600   0.540           0.00305   \n",
       "1      2/28/83  1983        0.2280         0.368   0.480           0.70700   \n",
       "2      8/20/83  1983        0.0998         0.272   0.684           0.01450   \n",
       "3      2/28/83  1983        0.1850         0.371   0.545           0.58200   \n",
       "4      2/28/83  1983        0.1850         0.371   0.545           0.58200   \n",
       "\n",
       "   liveness  loudness  speechiness    tempo  valence  mode  key  popularity  \\\n",
       "0     0.100   -11.803       0.0328  125.898    0.547     1    9          26   \n",
       "1     0.159   -11.605       0.0306  150.166    0.338     1    8          21   \n",
       "2     0.946    -9.728       0.0505  143.079    0.279     1    8          41   \n",
       "3     0.183    -9.315       0.0307  150.316    0.310     1    8          37   \n",
       "4     0.183    -9.315       0.0307  150.316    0.310     1    8          35   \n",
       "\n",
       "   explicit  \n",
       "0         0  \n",
       "1         0  \n",
       "2         0  \n",
       "3         0  \n",
       "4         0  "
      ]
     },
     "execution_count": 3,
     "metadata": {},
     "output_type": "execute_result"
    }
   ],
   "source": [
    "canzoni.head()"
   ]
  },
  {
   "cell_type": "markdown",
   "metadata": {},
   "source": [
    "After I've imported my dataset, I need to clean my data, in order to work on it."
   ]
  },
  {
   "cell_type": "code",
   "execution_count": null,
   "metadata": {},
   "outputs": [],
   "source": [
    "canzoni.drop(columns=['id', 'release_date'], inplace=True)"
   ]
  },
  {
   "cell_type": "code",
   "execution_count": null,
   "metadata": {},
   "outputs": [],
   "source": [
    "canzoni = canzoni.sort_values(by='popularity', ascending=False)\n",
    "column_names = ['name', 'artists', 'duration_ms', 'year', 'acousticness', 'danceability', 'energy', 'instrumentalness', 'liveness', 'loudness', 'speechiness', 'tempo', 'valence', 'mode', 'key', 'explicit']\n",
    "canzoni = canzoni.drop_duplicates(subset=column_names, keep='first')"
   ]
  },
  {
   "cell_type": "code",
   "execution_count": null,
   "metadata": {},
   "outputs": [
    {
     "data": {
      "text/plain": [
       "16539     False\n",
       "111992    False\n",
       "165408    False\n",
       "134148    False\n",
       "137845    False\n",
       "          ...  \n",
       "73562     False\n",
       "73563     False\n",
       "73564     False\n",
       "25486     False\n",
       "104732    False\n",
       "Length: 167367, dtype: bool"
      ]
     },
     "execution_count": 6,
     "metadata": {},
     "output_type": "execute_result"
    }
   ],
   "source": [
    "canzoni.duplicated()"
   ]
  },
  {
   "cell_type": "code",
   "execution_count": null,
   "metadata": {},
   "outputs": [],
   "source": [
    "canzoni['artists'] = canzoni['artists'].str.replace(\"['\", \"\")\n",
    "canzoni['artists'] = canzoni['artists'].str.replace(\"']\", \"\")"
   ]
  },
  {
   "cell_type": "code",
   "execution_count": null,
   "metadata": {},
   "outputs": [
    {
     "data": {
      "text/html": [
       "<div>\n",
       "<style scoped>\n",
       "    .dataframe tbody tr th:only-of-type {\n",
       "        vertical-align: middle;\n",
       "    }\n",
       "\n",
       "    .dataframe tbody tr th {\n",
       "        vertical-align: top;\n",
       "    }\n",
       "\n",
       "    .dataframe thead th {\n",
       "        text-align: right;\n",
       "    }\n",
       "</style>\n",
       "<table border=\"1\" class=\"dataframe\">\n",
       "  <thead>\n",
       "    <tr style=\"text-align: right;\">\n",
       "      <th></th>\n",
       "      <th>name</th>\n",
       "      <th>artists</th>\n",
       "      <th>duration_ms</th>\n",
       "      <th>year</th>\n",
       "      <th>acousticness</th>\n",
       "      <th>danceability</th>\n",
       "      <th>energy</th>\n",
       "      <th>instrumentalness</th>\n",
       "      <th>liveness</th>\n",
       "      <th>loudness</th>\n",
       "      <th>speechiness</th>\n",
       "      <th>tempo</th>\n",
       "      <th>valence</th>\n",
       "      <th>mode</th>\n",
       "      <th>key</th>\n",
       "      <th>popularity</th>\n",
       "      <th>explicit</th>\n",
       "    </tr>\n",
       "  </thead>\n",
       "  <tbody>\n",
       "    <tr>\n",
       "      <th>0</th>\n",
       "      <td>!Que Vida! - Mono Version</td>\n",
       "      <td>Love</td>\n",
       "      <td>220560</td>\n",
       "      <td>1966</td>\n",
       "      <td>0.525000</td>\n",
       "      <td>0.600</td>\n",
       "      <td>0.540</td>\n",
       "      <td>0.00305</td>\n",
       "      <td>0.100</td>\n",
       "      <td>-11.803</td>\n",
       "      <td>0.0328</td>\n",
       "      <td>125.898</td>\n",
       "      <td>0.547</td>\n",
       "      <td>1</td>\n",
       "      <td>9</td>\n",
       "      <td>26</td>\n",
       "      <td>0</td>\n",
       "    </tr>\n",
       "    <tr>\n",
       "      <th>1</th>\n",
       "      <td>\"40\"</td>\n",
       "      <td>U2</td>\n",
       "      <td>157840</td>\n",
       "      <td>1983</td>\n",
       "      <td>0.228000</td>\n",
       "      <td>0.368</td>\n",
       "      <td>0.480</td>\n",
       "      <td>0.70700</td>\n",
       "      <td>0.159</td>\n",
       "      <td>-11.605</td>\n",
       "      <td>0.0306</td>\n",
       "      <td>150.166</td>\n",
       "      <td>0.338</td>\n",
       "      <td>1</td>\n",
       "      <td>8</td>\n",
       "      <td>21</td>\n",
       "      <td>0</td>\n",
       "    </tr>\n",
       "    <tr>\n",
       "      <th>2</th>\n",
       "      <td>\"40\" - Live</td>\n",
       "      <td>U2</td>\n",
       "      <td>226200</td>\n",
       "      <td>1983</td>\n",
       "      <td>0.099800</td>\n",
       "      <td>0.272</td>\n",
       "      <td>0.684</td>\n",
       "      <td>0.01450</td>\n",
       "      <td>0.946</td>\n",
       "      <td>-9.728</td>\n",
       "      <td>0.0505</td>\n",
       "      <td>143.079</td>\n",
       "      <td>0.279</td>\n",
       "      <td>1</td>\n",
       "      <td>8</td>\n",
       "      <td>41</td>\n",
       "      <td>0</td>\n",
       "    </tr>\n",
       "    <tr>\n",
       "      <th>3</th>\n",
       "      <td>\"40\" - Remastered 2008</td>\n",
       "      <td>U2</td>\n",
       "      <td>157667</td>\n",
       "      <td>1983</td>\n",
       "      <td>0.185000</td>\n",
       "      <td>0.371</td>\n",
       "      <td>0.545</td>\n",
       "      <td>0.58200</td>\n",
       "      <td>0.183</td>\n",
       "      <td>-9.315</td>\n",
       "      <td>0.0307</td>\n",
       "      <td>150.316</td>\n",
       "      <td>0.310</td>\n",
       "      <td>1</td>\n",
       "      <td>8</td>\n",
       "      <td>37</td>\n",
       "      <td>0</td>\n",
       "    </tr>\n",
       "    <tr>\n",
       "      <th>4</th>\n",
       "      <td>\"45\"</td>\n",
       "      <td>The Gaslight Anthem</td>\n",
       "      <td>202493</td>\n",
       "      <td>2012</td>\n",
       "      <td>0.000696</td>\n",
       "      <td>0.315</td>\n",
       "      <td>0.970</td>\n",
       "      <td>0.00000</td>\n",
       "      <td>0.277</td>\n",
       "      <td>-4.709</td>\n",
       "      <td>0.1020</td>\n",
       "      <td>178.068</td>\n",
       "      <td>0.423</td>\n",
       "      <td>1</td>\n",
       "      <td>8</td>\n",
       "      <td>48</td>\n",
       "      <td>0</td>\n",
       "    </tr>\n",
       "  </tbody>\n",
       "</table>\n",
       "</div>"
      ],
      "text/plain": [
       "                        name              artists  duration_ms  year  \\\n",
       "0  !Que Vida! - Mono Version                 Love       220560  1966   \n",
       "1                       \"40\"                   U2       157840  1983   \n",
       "2                \"40\" - Live                   U2       226200  1983   \n",
       "3     \"40\" - Remastered 2008                   U2       157667  1983   \n",
       "4                       \"45\"  The Gaslight Anthem       202493  2012   \n",
       "\n",
       "   acousticness  danceability  energy  instrumentalness  liveness  loudness  \\\n",
       "0      0.525000         0.600   0.540           0.00305     0.100   -11.803   \n",
       "1      0.228000         0.368   0.480           0.70700     0.159   -11.605   \n",
       "2      0.099800         0.272   0.684           0.01450     0.946    -9.728   \n",
       "3      0.185000         0.371   0.545           0.58200     0.183    -9.315   \n",
       "4      0.000696         0.315   0.970           0.00000     0.277    -4.709   \n",
       "\n",
       "   speechiness    tempo  valence  mode  key  popularity  explicit  \n",
       "0       0.0328  125.898    0.547     1    9          26         0  \n",
       "1       0.0306  150.166    0.338     1    8          21         0  \n",
       "2       0.0505  143.079    0.279     1    8          41         0  \n",
       "3       0.0307  150.316    0.310     1    8          37         0  \n",
       "4       0.1020  178.068    0.423     1    8          48         0  "
      ]
     },
     "execution_count": 8,
     "metadata": {},
     "output_type": "execute_result"
    }
   ],
   "source": [
    "canzoni = canzoni.sort_values(by='name', ascending=True)\n",
    "canzoni.reset_index(drop=True, inplace=True)\n",
    "canzoni.head()"
   ]
  },
  {
   "cell_type": "markdown",
   "metadata": {},
   "source": [
    "What are the possible values for my columns?"
   ]
  },
  {
   "cell_type": "code",
   "execution_count": null,
   "metadata": {},
   "outputs": [
    {
     "name": "stdout",
     "output_type": "stream",
     "text": [
      "year: 1921 - 2020\n",
      "acousticness: 0.0 - 0.996\n",
      "danceability: 0.0 - 0.988\n",
      "energy: 0.0 - 1.0\n",
      "valence: 0.0 - 1.0\n",
      "mode: 0 - 1\n",
      "key: 0 - 11\n",
      "popularity: 0 - 100\n",
      "explicit: 0 - 1\n",
      "duration_ms: 5108 - 5403500\n",
      "instrumentalness: 0.0 - 1.0\n",
      "liveness 0.0 - 1.0\n",
      "loudness: -60.0 - 3.855\n",
      "speechiness: 0.0 - 0.969\n",
      "tempo: 0.0 - 244.091\n"
     ]
    }
   ],
   "source": [
    "print(\"year: \" + str(canzoni[\"year\"].min()) + \" - \" + str(canzoni[\"year\"].max()))\n",
    "print(\"acousticness: \" + str(canzoni[\"acousticness\"].min()) + \" - \" + str(canzoni[\"acousticness\"].max()))\n",
    "print(\"danceability: \" + str(canzoni[\"danceability\"].min()) + \" - \" + str(canzoni[\"danceability\"].max()))\n",
    "print(\"energy: \" + str(canzoni[\"energy\"].min()) + \" - \" + str(canzoni[\"energy\"].max()))\n",
    "print(\"valence: \" + str(canzoni[\"valence\"].min()) + \" - \" + str(canzoni[\"valence\"].max()))\n",
    "print(\"mode: \" + str(canzoni[\"mode\"].min()) + \" - \" + str(canzoni[\"mode\"].max()))\n",
    "print(\"key: \" + str(canzoni[\"key\"].min()) + \" - \" + str(canzoni[\"key\"].max()))\n",
    "print(\"popularity: \" + str(canzoni[\"popularity\"].min()) + \" - \" + str(canzoni[\"popularity\"].max()))\n",
    "print(\"explicit: \" + str(canzoni[\"explicit\"].min()) + \" - \" + str(canzoni[\"explicit\"].max()))\n",
    "print(\"duration_ms: \" + str(canzoni[\"duration_ms\"].min()) + \" - \" + str(canzoni[\"duration_ms\"].max()))\n",
    "print(\"instrumentalness: \" + str(canzoni[\"instrumentalness\"].min()) + \" - \" + str(canzoni[\"instrumentalness\"].max()))\n",
    "print(\"liveness \" + str(canzoni[\"liveness\"].min()) + \" - \" + str(canzoni[\"liveness\"].max()))\n",
    "print(\"loudness: \" + str(canzoni[\"loudness\"].min()) + \" - \" + str(canzoni[\"loudness\"].max()))\n",
    "print(\"speechiness: \"+ str(canzoni[\"speechiness\"].min()) + \" - \" + str(canzoni[\"speechiness\"].max()))\n",
    "print(\"tempo: \" + str(canzoni[\"tempo\"].min()) + \" - \" + str(canzoni[\"tempo\"].max()))"
   ]
  },
  {
   "cell_type": "markdown",
   "metadata": {},
   "source": [
    "I now want to classify my tracks in genres: I used some of my knowledge (and a fair amount of Internet) to understand which features are important to define a genre. After I've created a function, I apply it to my data and I verify how many songs are in each category."
   ]
  },
  {
   "cell_type": "code",
   "execution_count": null,
   "metadata": {},
   "outputs": [],
   "source": [
    "def genreClassification(row):\n",
    "    if row['acousticness'] >= 0.6 and row['energy'] <= 0.4 and row['instrumentalness'] >= 0.3 and row['speechiness'] <= 0.3:\n",
    "        return 'Acoustic/Folk'\n",
    "    elif row['danceability'] >= 0.5 and row['energy'] >= 0.5 and row['valence'] >= 0.5 and row['popularity'] >= 70 and 90 <= row['tempo'] <= 120:\n",
    "        return 'Pop'\n",
    "    elif row['energy'] >= 0.6 and -10 <= row['loudness'] <= 0 and 100 <= row['tempo'] <= 140 and row['acousticness'] <= 0.3:\n",
    "        return 'Rock'\n",
    "    elif row['speechiness'] >= 0.3 and row['danceability'] >= 0.5 and row['energy'] >= 0.5 and -10 <= row['loudness'] <= 0 and 80 <= row['tempo'] <= 120:\n",
    "        return 'Hip-Hop/Rap'\n",
    "    elif row['danceability'] >= 0.7 and row['energy'] >= 0.7 and 120 <= row['tempo'] <= 150 and row['valence'] >= 0.5 and 0.2 <= row['instrumentalness'] <= 0.5:\n",
    "        return 'Electronic/Dance'\n",
    "    elif row['acousticness'] >= 0.5 and row['instrumentalness'] >= 0.5 and row['speechiness'] <= 0.3 and 0.2 <= row['energy'] <= 0.6:\n",
    "        return 'Jazz'\n",
    "    elif row['acousticness'] >= 0.7 and row['instrumentalness'] >= 0.8 and row['energy'] <= 0.3 and row['speechiness'] <= 0.1:\n",
    "        return 'Classical'\n",
    "    else:\n",
    "        return 'Other'\n"
   ]
  },
  {
   "cell_type": "code",
   "execution_count": null,
   "metadata": {},
   "outputs": [],
   "source": [
    "canzoni['genre'] = canzoni.apply(lambda row: genreClassification(row), axis=1)"
   ]
  },
  {
   "cell_type": "code",
   "execution_count": null,
   "metadata": {},
   "outputs": [
    {
     "data": {
      "text/plain": [
       "genre\n",
       "Other               123884\n",
       "Acoustic/Folk        19784\n",
       "Rock                 19068\n",
       "Jazz                  2794\n",
       "Hip-Hop/Rap           1011\n",
       "Pop                    787\n",
       "Electronic/Dance        39\n",
       "Name: count, dtype: int64"
      ]
     },
     "execution_count": 12,
     "metadata": {},
     "output_type": "execute_result"
    }
   ],
   "source": [
    "canzoni['genre'].value_counts()"
   ]
  },
  {
   "cell_type": "markdown",
   "metadata": {},
   "source": [
    "Since the 'Electronic/Dance' genre is not populated (we can see that the other genres have a lot more values), we discard it."
   ]
  },
  {
   "cell_type": "code",
   "execution_count": null,
   "metadata": {},
   "outputs": [],
   "source": [
    "canzoni = canzoni[canzoni['genre'] != 'Electronic/Dance']"
   ]
  },
  {
   "cell_type": "code",
   "execution_count": null,
   "metadata": {},
   "outputs": [
    {
     "data": {
      "text/plain": [
       "genre\n",
       "Other            123884\n",
       "Acoustic/Folk     19784\n",
       "Rock              19068\n",
       "Jazz               2794\n",
       "Hip-Hop/Rap        1011\n",
       "Pop                 787\n",
       "Name: count, dtype: int64"
      ]
     },
     "execution_count": 14,
     "metadata": {},
     "output_type": "execute_result"
    }
   ],
   "source": [
    "canzoni['genre'].value_counts()"
   ]
  },
  {
   "cell_type": "markdown",
   "metadata": {},
   "source": [
    "We want to have a number of tracks for each genre that can be compared to the others: we choose to sample 1000 tracks per genre (apart from 'Pop', which will have 7878 tracks). This will help us understand the result of the clustering: the clusters will be based on data and not on the amount of it."
   ]
  },
  {
   "cell_type": "code",
   "execution_count": null,
   "metadata": {},
   "outputs": [
    {
     "data": {
      "text/plain": [
       "genre\n",
       "Hip-Hop/Rap      1011\n",
       "Other            1000\n",
       "Acoustic/Folk    1000\n",
       "Rock             1000\n",
       "Jazz             1000\n",
       "Pop               787\n",
       "Name: count, dtype: int64"
      ]
     },
     "execution_count": 15,
     "metadata": {},
     "output_type": "execute_result"
    }
   ],
   "source": [
    "def sample(df, genre, n):\n",
    "    return df[df['genre'] == genre].sample(n)\n",
    "\n",
    "canzoni_sample = pd.concat([sample(canzoni, 'Other', 1000), sample(canzoni, 'Acoustic/Folk', 1000), sample(canzoni, 'Rock', 1000), sample(canzoni, 'Jazz', 1000), canzoni[canzoni['genre'] == 'Pop'], canzoni[canzoni['genre'] == 'Hip-Hop/Rap']])\n",
    "canzoni_sample['genre'].value_counts()"
   ]
  },
  {
   "cell_type": "code",
   "execution_count": null,
   "metadata": {},
   "outputs": [
    {
     "name": "stdout",
     "output_type": "stream",
     "text": [
      "<class 'pandas.core.frame.DataFrame'>\n",
      "Index: 5798 entries, 89231 to 163226\n",
      "Data columns (total 18 columns):\n",
      " #   Column            Non-Null Count  Dtype  \n",
      "---  ------            --------------  -----  \n",
      " 0   name              5798 non-null   object \n",
      " 1   artists           5798 non-null   object \n",
      " 2   duration_ms       5798 non-null   int64  \n",
      " 3   year              5798 non-null   int64  \n",
      " 4   acousticness      5798 non-null   float64\n",
      " 5   danceability      5798 non-null   float64\n",
      " 6   energy            5798 non-null   float64\n",
      " 7   instrumentalness  5798 non-null   float64\n",
      " 8   liveness          5798 non-null   float64\n",
      " 9   loudness          5798 non-null   float64\n",
      " 10  speechiness       5798 non-null   float64\n",
      " 11  tempo             5798 non-null   float64\n",
      " 12  valence           5798 non-null   float64\n",
      " 13  mode              5798 non-null   int64  \n",
      " 14  key               5798 non-null   int64  \n",
      " 15  popularity        5798 non-null   int64  \n",
      " 16  explicit          5798 non-null   int64  \n",
      " 17  genre             5798 non-null   object \n",
      "dtypes: float64(9), int64(6), object(3)\n",
      "memory usage: 860.6+ KB\n"
     ]
    }
   ],
   "source": [
    "del canzoni\n",
    "canzoni = canzoni_sample\n",
    "canzoni.info()"
   ]
  },
  {
   "cell_type": "markdown",
   "metadata": {},
   "source": [
    "We use only some features for the clustering, meaning the features we used in our function to annotate genres."
   ]
  },
  {
   "cell_type": "code",
   "execution_count": null,
   "metadata": {},
   "outputs": [],
   "source": [
    "import matplotlib.pyplot as plt\n",
    "from scipy.cluster.hierarchy import linkage, fcluster, set_link_color_palette\n",
    "import scipy.cluster.hierarchy as sch\n",
    "\n",
    "# Compute the linkage matrix\n",
    "canzoni_cluster = canzoni.drop(columns=['name', 'artists', 'duration_ms', 'year', 'liveness', 'loudness', 'speechiness', 'tempo', 'valence', 'mode', 'key', 'popularity', 'explicit', 'genre'])\n",
    "linkage_matrix = linkage(canzoni_cluster, method='ward')"
   ]
  },
  {
   "cell_type": "markdown",
   "metadata": {},
   "source": [
    "We start creating a clustering with 6 clusters."
   ]
  },
  {
   "cell_type": "code",
   "execution_count": null,
   "metadata": {},
   "outputs": [],
   "source": [
    "# Obtain 6 clusters using `fcluster`\n",
    "cluster_labels = fcluster(linkage_matrix, t=6, criterion='maxclust')\n",
    "\n",
    "# Add the cluster labels to the DataFrame\n",
    "canzoni['Cluster'] = cluster_labels"
   ]
  },
  {
   "cell_type": "code",
   "execution_count": null,
   "metadata": {},
   "outputs": [
    {
     "data": {
      "image/png": "[encoded data removed]",
      "text/plain": [
       "<Figure size 1400x1000 with 1 Axes>"
      ]
     },
     "metadata": {},
     "output_type": "display_data"
    }
   ],
   "source": [
    "plt.figure(figsize=(14, 10))\n",
    "sch.dendrogram(linkage_matrix)\n",
    "plt.title('Dendrogram for Hierarchical Clustering')\n",
    "plt.xlabel('Sample Index')\n",
    "plt.ylabel('Distance')\n",
    "plt.show()"
   ]
  },
  {
   "cell_type": "markdown",
   "metadata": {},
   "source": [
    "How are the genres distributed in the clusters?"
   ]
  },
  {
   "cell_type": "code",
   "execution_count": null,
   "metadata": {},
   "outputs": [
    {
     "name": "stdout",
     "output_type": "stream",
     "text": [
      "Cluster          1    2    3    4    5    6\n",
      "genre                                      \n",
      "Acoustic/Folk    0    0    0  156  586  258\n",
      "Hip-Hop/Rap    303    1  665   40    0    2\n",
      "Jazz             0    0    0    1    1  998\n",
      "Other          357   40  269  312    0   22\n",
      "Pop            199    7  580    1    0    0\n",
      "Rock            64  101  835    0    0    0\n"
     ]
    }
   ],
   "source": [
    "genre_cluster_crosstab = pd.crosstab(canzoni['genre'], canzoni['Cluster'])\n",
    "print(genre_cluster_crosstab)"
   ]
  },
  {
   "cell_type": "code",
   "execution_count": null,
   "metadata": {},
   "outputs": [
    {
     "name": "stdout",
     "output_type": "stream",
     "text": [
      "Cluster                1          2          3          4     5          6\n",
      "genre                                                                     \n",
      "Acoustic/Folk   0.000000   0.000000   0.000000  15.600000  58.6  25.800000\n",
      "Hip-Hop/Rap    29.970326   0.098912  65.776459   3.956479   0.0   0.197824\n",
      "Jazz            0.000000   0.000000   0.000000   0.100000   0.1  99.800000\n",
      "Other          35.700000   4.000000  26.900000  31.200000   0.0   2.200000\n",
      "Pop            25.285896   0.889454  73.697586   0.127065   0.0   0.000000\n",
      "Rock            6.400000  10.100000  83.500000   0.000000   0.0   0.000000\n"
     ]
    }
   ],
   "source": [
    "# Normalize the crosstab by the total counts for each genre to get percentages\n",
    "genre_cluster_percentage = genre_cluster_crosstab.div(genre_cluster_crosstab.sum(axis=1), axis=0) * 100\n",
    "\n",
    "# Display the percentage table\n",
    "print(genre_cluster_percentage)"
   ]
  },
  {
   "cell_type": "code",
   "execution_count": null,
   "metadata": {},
   "outputs": [
    {
     "name": "stdout",
     "output_type": "stream",
     "text": [
      "genre    Acoustic/Folk  Hip-Hop/Rap       Jazz      Other        Pop  \\\n",
      "Cluster                                                                \n",
      "1             0.000000    32.827736   0.000000  38.678223  21.560130   \n",
      "2             0.000000     0.671141   0.000000  26.845638   4.697987   \n",
      "3             0.000000    28.309919   0.000000  11.451682  24.691358   \n",
      "4            30.588235     7.843137   0.196078  61.176471   0.196078   \n",
      "5            99.829642     0.000000   0.170358   0.000000   0.000000   \n",
      "6            20.156250     0.156250  77.968750   1.718750   0.000000   \n",
      "\n",
      "genre         Rock  \n",
      "Cluster             \n",
      "1         6.933911  \n",
      "2        67.785235  \n",
      "3        35.547041  \n",
      "4         0.000000  \n",
      "5         0.000000  \n",
      "6         0.000000  \n"
     ]
    },
    {
     "data": {
      "image/png": "[encoded data removed]",
      "text/plain": [
       "<Figure size 1400x1000 with 1 Axes>"
      ]
     },
     "metadata": {},
     "output_type": "display_data"
    }
   ],
   "source": [
    "# Normalize the crosstab by the total counts for each cluster to get percentages\n",
    "cluster_genre_crosstab = pd.crosstab(canzoni['Cluster'], canzoni['genre'])\n",
    "cluster_genre_percentage = cluster_genre_crosstab.div(cluster_genre_crosstab.sum(axis=1), axis=0) * 100\n",
    "\n",
    "# Display the percentage table\n",
    "print(cluster_genre_percentage)\n",
    "\n",
    "# Plot the data\n",
    "plt.figure(figsize=(14, 10))\n",
    "bottom = np.zeros(len(cluster_genre_crosstab.index))\n",
    "for genre in cluster_genre_crosstab.columns:\n",
    "    plt.bar(cluster_genre_crosstab.index, cluster_genre_crosstab[genre], bottom=bottom, label=genre)\n",
    "    bottom += cluster_genre_crosstab[genre]\n",
    "\n",
    "plt.xlabel('Cluster')\n",
    "plt.ylabel('Count')\n",
    "plt.title('Cluster Distribution by Genre')\n",
    "plt.legend()\n",
    "plt.show()"
   ]
  },
  {
   "cell_type": "markdown",
   "metadata": {},
   "source": [
    "Now we do another clustering, using 10 clusters."
   ]
  },
  {
   "cell_type": "code",
   "execution_count": null,
   "metadata": {},
   "outputs": [],
   "source": [
    "# Obtain 6 clusters using `fcluster`\n",
    "cluster_labels = fcluster(linkage_matrix, t=10, criterion='maxclust')\n",
    "\n",
    "# Add the cluster labels to the DataFrame\n",
    "canzoni['Cluster'] = cluster_labels"
   ]
  },
  {
   "cell_type": "code",
   "execution_count": null,
   "metadata": {},
   "outputs": [
    {
     "data": {
      "image/png": "[encoded data removed]",
      "text/plain": [
       "<Figure size 1400x1000 with 1 Axes>"
      ]
     },
     "metadata": {},
     "output_type": "display_data"
    }
   ],
   "source": [
    "\n",
    "\n",
    "plt.figure(figsize=(14, 10))\n",
    "sch.dendrogram(linkage_matrix)\n",
    "plt.title('Dendrogram for Hierarchical Clustering')\n",
    "plt.xlabel('Sample Index')\n",
    "plt.ylabel('Distance')\n",
    "plt.show()"
   ]
  },
  {
   "cell_type": "code",
   "execution_count": null,
   "metadata": {},
   "outputs": [
    {
     "name": "stdout",
     "output_type": "stream",
     "text": [
      "Cluster         1    2    3    4    5    6    7    8    9    10\n",
      "genre                                                          \n",
      "Acoustic/Folk    0    0    0    0    0  156    0  586   24  234\n",
      "Hip-Hop/Rap     72  231    1  392  273    0   40    0    2    0\n",
      "Jazz             0    0    0    0    0    1    0    1  301  697\n",
      "Other          224  133   40   70  199   11  301    0   18    4\n",
      "Pop             34  165    7  326  254    0    1    0    0    0\n",
      "Rock             0   64  101  183  652    0    0    0    0    0\n"
     ]
    }
   ],
   "source": [
    "genre_cluster_crosstab = pd.crosstab(canzoni['genre'], canzoni['Cluster'])\n",
    "print(genre_cluster_crosstab)"
   ]
  },
  {
   "cell_type": "code",
   "execution_count": null,
   "metadata": {},
   "outputs": [
    {
     "name": "stdout",
     "output_type": "stream",
     "text": [
      "genre    Acoustic/Folk  Hip-Hop/Rap       Jazz      Other        Pop  \\\n",
      "Cluster                                                                \n",
      "1             0.000000    21.818182   0.000000  67.878788  10.303030   \n",
      "2             0.000000    38.954469   0.000000  22.428331  27.824621   \n",
      "3             0.000000     0.671141   0.000000  26.845638   4.697987   \n",
      "4             0.000000    40.370752   0.000000   7.209063  33.573635   \n",
      "5             0.000000    19.811321   0.000000  14.441219  18.432511   \n",
      "6            92.857143     0.000000   0.595238   6.547619   0.000000   \n",
      "7             0.000000    11.695906   0.000000  88.011696   0.292398   \n",
      "8            99.829642     0.000000   0.170358   0.000000   0.000000   \n",
      "9             6.956522     0.579710  87.246377   5.217391   0.000000   \n",
      "10           25.026738     0.000000  74.545455   0.427807   0.000000   \n",
      "\n",
      "genre         Rock  \n",
      "Cluster             \n",
      "1         0.000000  \n",
      "2        10.792580  \n",
      "3        67.785235  \n",
      "4        18.846550  \n",
      "5        47.314949  \n",
      "6         0.000000  \n",
      "7         0.000000  \n",
      "8         0.000000  \n",
      "9         0.000000  \n",
      "10        0.000000  \n"
     ]
    },
    {
     "data": {
      "image/png": "[encoded data removed]",
      "text/plain": [
       "<Figure size 1400x1000 with 1 Axes>"
      ]
     },
     "metadata": {},
     "output_type": "display_data"
    }
   ],
   "source": [
    "# Normalize the crosstab by the total counts for each cluster to get percentages\n",
    "cluster_genre_crosstab = pd.crosstab(canzoni['Cluster'], canzoni['genre'])\n",
    "cluster_genre_percentage = cluster_genre_crosstab.div(cluster_genre_crosstab.sum(axis=1), axis=0) * 100\n",
    "\n",
    "# Display the percentage table\n",
    "print(cluster_genre_percentage)\n",
    "\n",
    "# Plot the data\n",
    "plt.figure(figsize=(14, 10))\n",
    "bottom = np.zeros(len(cluster_genre_crosstab.index))\n",
    "for genre in cluster_genre_crosstab.columns:\n",
    "    plt.bar(cluster_genre_crosstab.index, cluster_genre_crosstab[genre], bottom=bottom, label=genre)\n",
    "    bottom += cluster_genre_crosstab[genre]\n",
    "\n",
    "plt.xlabel('Cluster')\n",
    "plt.ylabel('Count')\n",
    "plt.title('Cluster Distribution by Genre')\n",
    "plt.legend()\n",
    "plt.show()"
   ]
  }
 ],
 "metadata": {
  "kernelspec": {
   "display_name": "base",
   "language": "python",
   "name": "python3"
  },
  "language_info": {
   "codemirror_mode": {
    "name": "ipython",
    "version": 3
   },
   "file_extension": ".py",
   "mimetype": "text/x-python",
   "name": "python",
   "nbconvert_exporter": "python",
   "pygments_lexer": "ipython3",
   "version": "3.11.5"
  }
 },
 "nbformat": 4,
 "nbformat_minor": 2
}
